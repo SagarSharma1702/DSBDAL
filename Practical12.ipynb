{
  "nbformat": 4,
  "nbformat_minor": 0,
  "metadata": {
    "colab": {
      "provenance": [],
      "authorship_tag": "ABX9TyPC1a+lBUoSJLQicwEywugC",
      "include_colab_link": true
    },
    "kernelspec": {
      "name": "python3",
      "display_name": "Python 3"
    },
    "language_info": {
      "name": "python"
    }
  },
  "cells": [
    {
      "cell_type": "markdown",
      "metadata": {
        "id": "view-in-github",
        "colab_type": "text"
      },
      "source": [
        "<a href=\"https://colab.research.google.com/github/SagarSharma1702/DSBDAL/blob/main/Practical12.ipynb\" target=\"_parent\"><img src=\"https://colab.research.google.com/assets/colab-badge.svg\" alt=\"Open In Colab\"/></a>"
      ]
    },
    {
      "cell_type": "code",
      "execution_count": null,
      "metadata": {
        "id": "l0kmGAvgjTdk"
      },
      "outputs": [],
      "source": [
        "import pandas as pd"
      ]
    },
    {
      "cell_type": "code",
      "source": [
        "import numpy as np"
      ],
      "metadata": {
        "id": "saf4qxgVjoUn"
      },
      "execution_count": null,
      "outputs": []
    },
    {
      "cell_type": "code",
      "source": [
        "#Creating a Dataframe\n",
        "df1={\n",
        "    'First Name':['Sagar','Sainath','Anand','Srushti','Swapnil','Pratiksha','Mahesh','Roshan','Poonam',np.nan],\n",
        "     'Last Name':['Sharma','Damre','Thakare','Patil','Bacchav','More','Pawar','Sonje','Aher',np.nan],\n",
        "     'State':['Maharashtra','Rajasthan','Goa','Tamilnadu','Gujarat','MP','UP','Kashmir',np.nan,np.nan],\n",
        "     'Gender':['M','M','M','F','M','F','M','M',np.nan,np.nan],\n",
        "     'Score':[63,48,56,75,60,43,38,np.nan,77,np.nan],\n",
        "     'Language':['C','CPP','Python','Java','C','CPP','Python','Java',np.nan,np.nan]\n",
        "     }\n",
        "df1=pd.DataFrame(df1,columns=['First Name','Last Name','State','Gender','Score','Language'])\n",
        "print(df1)"
      ],
      "metadata": {
        "id": "AfwHRI2vjuDs",
        "colab": {
          "base_uri": "https://localhost:8080/"
        },
        "outputId": "04cc3fa8-e6da-484d-ad1e-bf378fe4d935"
      },
      "execution_count": null,
      "outputs": [
        {
          "output_type": "stream",
          "name": "stdout",
          "text": [
            "  First Name Last Name        State Gender  Score Language\n",
            "0      Sagar    Sharma  Maharashtra      M   63.0        C\n",
            "1    Sainath     Damre    Rajasthan      M   48.0      CPP\n",
            "2      Anand   Thakare          Goa      M   56.0   Python\n",
            "3    Srushti     Patil    Tamilnadu      F   75.0     Java\n",
            "4    Swapnil   Bacchav      Gujarat      M   60.0        C\n",
            "5  Pratiksha      More           MP      F   43.0      CPP\n",
            "6     Mahesh     Pawar           UP      M   38.0   Python\n",
            "7     Roshan     Sonje      Kashmir      M    NaN     Java\n",
            "8     Poonam      Aher          NaN    NaN   77.0      NaN\n",
            "9        NaN       NaN          NaN    NaN    NaN      NaN\n"
          ]
        }
      ]
    }
  ]
}